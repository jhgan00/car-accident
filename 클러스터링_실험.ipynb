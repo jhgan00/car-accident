{
 "cells": [
  {
   "cell_type": "markdown",
   "metadata": {},
   "source": [
    "# 할 일\n",
    "\n",
    "1. 구별 클러스터링\n",
    "2. 클러스터별 면적 계산\n",
    "3. 사고발생건수/면적 계산: 기준 이상만 남기기"
   ]
  },
  {
   "cell_type": "code",
   "execution_count": 267,
   "metadata": {},
   "outputs": [],
   "source": [
    "import warnings\n",
    "import pyproj\n",
    "import numpy as np\n",
    "import pandas as pd\n",
    "import geopandas as gpd\n",
    "from statsmodels.api import OLS\n",
    "from sklearn.cluster import DBSCAN\n",
    "from functools import partial\n",
    "from shapely.ops import transform\n",
    "from shapely.geometry import Point"
   ]
  },
  {
   "cell_type": "code",
   "execution_count": 187,
   "metadata": {},
   "outputs": [],
   "source": [
    "warnings.filterwarnings(action=\"ignore\")"
   ]
  },
  {
   "cell_type": "code",
   "execution_count": 152,
   "metadata": {},
   "outputs": [],
   "source": [
    "proj_wgs84 = pyproj.Proj('+proj=longlat +datum=WGS84')\n",
    "def geodesic_point_buffer(point, meter):\n",
    "    # Azimuthal equidistant projection\n",
    "    aeqd_proj = '+proj=aeqd +lat_0={lat} +lon_0={lon} +x_0=0 +y_0=0'\n",
    "    project = partial(\n",
    "        pyproj.transform,\n",
    "        pyproj.Proj(aeqd_proj.format(lat=point.y, lon=point.x)),\n",
    "        proj_wgs84\n",
    "    )\n",
    "    buf = Point(0, 0).buffer(meter)  # distance in metres\n",
    "    return transform(project, buf)"
   ]
  },
  {
   "cell_type": "code",
   "execution_count": 183,
   "metadata": {},
   "outputs": [],
   "source": [
    "def calc_meter_area(polygon):\n",
    "    proj = partial(\n",
    "        pyproj.transform, pyproj.Proj(init='epsg:4326'),\n",
    "        pyproj.Proj(init='epsg:3857')\n",
    "    )\n",
    "    s_new = transform(proj, polygon)\n",
    "    return transform(proj, polygon).area"
   ]
  },
  {
   "cell_type": "code",
   "execution_count": 5,
   "metadata": {},
   "outputs": [],
   "source": [
    "plt.rcParams[\"font.family\"] = \"NanumGothic\"\n",
    "plt.rcParams['axes.unicode_minus'] = False"
   ]
  },
  {
   "cell_type": "code",
   "execution_count": 255,
   "metadata": {},
   "outputs": [],
   "source": [
    "data = pd.read_json(\"data/kids-accident-pp.json\")\n",
    "gdf = gpd.read_file(\"data/geometry.geojson\")\n",
    "data = data.assign(\n",
    "    sido = np.array([x.split()[0] for x in data.legaldong_name]),\n",
    "    gugun = np.array([x.split()[1] for x in data.legaldong_name]),\n",
    "    acdnt_dd_dc = pd.to_datetime(data.acdnt_dd_dc, format=\"%Y-%m-%d\")\n",
    ")"
   ]
  },
  {
   "cell_type": "markdown",
   "metadata": {},
   "source": [
    "# 1. 기준 설정"
   ]
  },
  {
   "cell_type": "code",
   "execution_count": 388,
   "metadata": {},
   "outputs": [],
   "source": [
    "acdnt_cnt = (data.groupby(data.acdnt_dd_dc.dt.year)\n",
    "                 .size()\n",
    "                 .reset_index()\n",
    "                 .rename(columns={\"acdnt_dd_dc\":\"year\", 0:\"cnt\"})\n",
    "                 .assign(constant=1)\n",
    "            )"
   ]
  },
  {
   "cell_type": "code",
   "execution_count": 390,
   "metadata": {},
   "outputs": [
    {
     "data": {
      "text/html": [
       "<table class=\"simpletable\">\n",
       "<caption>OLS Regression Results</caption>\n",
       "<tr>\n",
       "  <th>Dep. Variable:</th>            <td>y</td>        <th>  R-squared:         </th> <td>   0.957</td>\n",
       "</tr>\n",
       "<tr>\n",
       "  <th>Model:</th>                   <td>OLS</td>       <th>  Adj. R-squared:    </th> <td>   0.953</td>\n",
       "</tr>\n",
       "<tr>\n",
       "  <th>Method:</th>             <td>Least Squares</td>  <th>  F-statistic:       </th> <td>   245.5</td>\n",
       "</tr>\n",
       "<tr>\n",
       "  <th>Date:</th>             <td>Sun, 14 Jun 2020</td> <th>  Prob (F-statistic):</th> <td>7.20e-09</td>\n",
       "</tr>\n",
       "<tr>\n",
       "  <th>Time:</th>                 <td>21:43:50</td>     <th>  Log-Likelihood:    </th> <td> -91.486</td>\n",
       "</tr>\n",
       "<tr>\n",
       "  <th>No. Observations:</th>      <td>    13</td>      <th>  AIC:               </th> <td>   187.0</td>\n",
       "</tr>\n",
       "<tr>\n",
       "  <th>Df Residuals:</th>          <td>    11</td>      <th>  BIC:               </th> <td>   188.1</td>\n",
       "</tr>\n",
       "<tr>\n",
       "  <th>Df Model:</th>              <td>     1</td>      <th>                     </th>     <td> </td>   \n",
       "</tr>\n",
       "<tr>\n",
       "  <th>Covariance Type:</th>      <td>nonrobust</td>    <th>                     </th>     <td> </td>   \n",
       "</tr>\n",
       "</table>\n",
       "<table class=\"simpletable\">\n",
       "<tr>\n",
       "      <td></td>        <th>coef</th>     <th>std err</th>      <th>t</th>      <th>P>|t|</th>  <th>[0.025</th>    <th>0.975]</th>  \n",
       "</tr>\n",
       "<tr>\n",
       "  <th>constant</th> <td> 7.054e+05</td> <td> 4.47e+04</td> <td>   15.787</td> <td> 0.000</td> <td> 6.07e+05</td> <td> 8.04e+05</td>\n",
       "</tr>\n",
       "<tr>\n",
       "  <th>year</th>     <td> -347.7637</td> <td>   22.197</td> <td>  -15.667</td> <td> 0.000</td> <td> -396.620</td> <td> -298.908</td>\n",
       "</tr>\n",
       "</table>\n",
       "<table class=\"simpletable\">\n",
       "<tr>\n",
       "  <th>Omnibus:</th>       <td> 0.697</td> <th>  Durbin-Watson:     </th> <td>   0.847</td>\n",
       "</tr>\n",
       "<tr>\n",
       "  <th>Prob(Omnibus):</th> <td> 0.706</td> <th>  Jarque-Bera (JB):  </th> <td>   0.015</td>\n",
       "</tr>\n",
       "<tr>\n",
       "  <th>Skew:</th>          <td>-0.076</td> <th>  Prob(JB):          </th> <td>   0.992</td>\n",
       "</tr>\n",
       "<tr>\n",
       "  <th>Kurtosis:</th>      <td> 3.071</td> <th>  Cond. No.          </th> <td>1.08e+06</td>\n",
       "</tr>\n",
       "</table><br/><br/>Warnings:<br/>[1] Standard Errors assume that the covariance matrix of the errors is correctly specified.<br/>[2] The condition number is large, 1.08e+06. This might indicate that there are<br/>strong multicollinearity or other numerical problems."
      ],
      "text/plain": [
       "<class 'statsmodels.iolib.summary.Summary'>\n",
       "\"\"\"\n",
       "                            OLS Regression Results                            \n",
       "==============================================================================\n",
       "Dep. Variable:                      y   R-squared:                       0.957\n",
       "Model:                            OLS   Adj. R-squared:                  0.953\n",
       "Method:                 Least Squares   F-statistic:                     245.5\n",
       "Date:                Sun, 14 Jun 2020   Prob (F-statistic):           7.20e-09\n",
       "Time:                        21:43:50   Log-Likelihood:                -91.486\n",
       "No. Observations:                  13   AIC:                             187.0\n",
       "Df Residuals:                      11   BIC:                             188.1\n",
       "Df Model:                           1                                         \n",
       "Covariance Type:            nonrobust                                         \n",
       "==============================================================================\n",
       "                 coef    std err          t      P>|t|      [0.025      0.975]\n",
       "------------------------------------------------------------------------------\n",
       "constant    7.054e+05   4.47e+04     15.787      0.000    6.07e+05    8.04e+05\n",
       "year        -347.7637     22.197    -15.667      0.000    -396.620    -298.908\n",
       "==============================================================================\n",
       "Omnibus:                        0.697   Durbin-Watson:                   0.847\n",
       "Prob(Omnibus):                  0.706   Jarque-Bera (JB):                0.015\n",
       "Skew:                          -0.076   Prob(JB):                        0.992\n",
       "Kurtosis:                       3.071   Cond. No.                     1.08e+06\n",
       "==============================================================================\n",
       "\n",
       "Warnings:\n",
       "[1] Standard Errors assume that the covariance matrix of the errors is correctly specified.\n",
       "[2] The condition number is large, 1.08e+06. This might indicate that there are\n",
       "strong multicollinearity or other numerical problems.\n",
       "\"\"\""
      ]
     },
     "execution_count": 390,
     "metadata": {},
     "output_type": "execute_result"
    }
   ],
   "source": [
    "ols_model = OLS(acdnt_cnt.cnt.values,acdnt_cnt[[\"constant\",\"year\"]]).fit()\n",
    "ols_model.summary()"
   ]
  },
  {
   "cell_type": "code",
   "execution_count": 413,
   "metadata": {},
   "outputs": [
    {
     "name": "stdout",
     "output_type": "stream",
     "text": [
      "year | criterion\n",
      "==== | ====================\n",
      "2019 | 3\n",
      "2018 | 3.3180883106787835\n",
      "2017 | 3.636176621357567\n",
      "2016 | 3.9542649320364567\n",
      "2015 | 4.272353242715241\n",
      "2014 | 4.590441553394024\n",
      "2013 | 4.908529864072808\n",
      "2012 | 5.226618174751698\n",
      "2011 | 5.544706485430481\n",
      "2010 | 5.862794796109265\n",
      "2009 | 6.180883106788048\n",
      "2008 | 6.498971417466832\n",
      "2007 | 6.817059728145722\n"
     ]
    }
   ],
   "source": [
    "summation = 3\n",
    "criterion = 3\n",
    "print(\"year\",\"|\",\"criterion\")\n",
    "print(\"====\",\"|\",\"=\"*20)\n",
    "print(acdnt_cnt.year.values[-1],\"|\",criterion)\n",
    "for i in range(acdnt_cnt.shape[0]-1):\n",
    "    criterion = criterion/ols_model.fittedvalues.values[-(i+1)] * ols_model.fittedvalues.values[-(i+2)]\n",
    "    summation += criterion\n",
    "    print(acdnt_cnt.year.values[-(i+2)], \"|\", criterion)"
   ]
  },
  {
   "cell_type": "code",
   "execution_count": 439,
   "metadata": {},
   "outputs": [],
   "source": [
    "criterion = summation / (300 * 300 * np.pi)"
   ]
  },
  {
   "cell_type": "code",
   "execution_count": 440,
   "metadata": {},
   "outputs": [
    {
     "data": {
      "text/plain": [
       "0.00022568485078573245"
      ]
     },
     "execution_count": 440,
     "metadata": {},
     "output_type": "execute_result"
    }
   ],
   "source": [
    "criterion"
   ]
  },
  {
   "cell_type": "markdown",
   "metadata": {},
   "source": [
    "# 2. 클러스터 선정"
   ]
  },
  {
   "cell_type": "code",
   "execution_count": 396,
   "metadata": {},
   "outputs": [],
   "source": [
    "seoul = data.query(\"sido=='서울특별시'\").drop(\"sido\", axis=1)"
   ]
  },
  {
   "cell_type": "code",
   "execution_count": 397,
   "metadata": {},
   "outputs": [],
   "source": [
    "earth_radius_km = 6371\n",
    "epsilon = 0.2 / earth_radius_km #calculate 100 meterㄴ epsilon threshold"
   ]
  },
  {
   "cell_type": "code",
   "execution_count": null,
   "metadata": {},
   "outputs": [],
   "source": [
    "result = []\n",
    "for gu in seoul.gugun.unique():\n",
    "    print(gu)\n",
    "    # 클러스터 모델 적합\n",
    "    df = seoul[seoul.gugun==gu]\n",
    "    geo = gdf[gdf.acdnt_no.isin(df.acdnt_no)]\n",
    "    coordinates = np.array([geo.geometry.x, geo.geometry.y]).T\n",
    "    X = np.radians(coordinates) # convert the list of lat/lon coordinates to radians\n",
    "    model = DBSCAN(\n",
    "        eps=epsilon,\n",
    "        min_samples=summation/10,\n",
    "        n_jobs=4\n",
    "    )\n",
    "    model.fit(X)\n",
    "    \n",
    "    # 밀도 계산\n",
    "    geo = geo.assign(\n",
    "        labels = model.labels_,\n",
    "        geometry = geo.geometry.apply(geodesic_point_buffer, meter=100)\n",
    "    ).query(\"labels!=-1\")\n",
    "    geo = pd.merge(\n",
    "        geo.query(\"labels!=-1\").dissolve(by=\"labels\").reset_index(),\n",
    "        geo.labels.value_counts().reset_index().rename(columns={\"labels\":\"cls_size\", \"index\":\"labels\"})\n",
    "    )\n",
    "    geo = geo.assign(meter_area = geo.geometry.apply(calc_meter_area))\n",
    "    geo = geo[(geo.cls_size / geo.meter_area) > criterion]\n",
    "    print(\"-----------------\")\n",
    "    print(geo)\n",
    "    print(\"-----------------\\n\")\n",
    "    \n",
    "    result.append(geo.copy())\n",
    "    "
   ]
  },
  {
   "cell_type": "code",
   "execution_count": null,
   "metadata": {},
   "outputs": [],
   "source": []
  }
 ],
 "metadata": {
  "kernelspec": {
   "display_name": "Python 3",
   "language": "python",
   "name": "python3"
  },
  "language_info": {
   "codemirror_mode": {
    "name": "ipython",
    "version": 3
   },
   "file_extension": ".py",
   "mimetype": "text/x-python",
   "name": "python",
   "nbconvert_exporter": "python",
   "pygments_lexer": "ipython3",
   "version": "3.7.7"
  }
 },
 "nbformat": 4,
 "nbformat_minor": 4
}
